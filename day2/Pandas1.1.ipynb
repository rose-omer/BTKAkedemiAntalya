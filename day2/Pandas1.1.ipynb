{
 "cells": [
  {
   "attachments": {
    "4b8fd8ef-4e31-41f0-8df7-43f979fb2844.png": {
     "image/png": "[encoded data removed]"
    }
   },
   "cell_type": "markdown",
   "id": "4a31a809-1a99-4b7b-a35f-4f8000bed56c",
   "metadata": {},
   "source": [
    "![image.png](attachment:4b8fd8ef-4e31-41f0-8df7-43f979fb2844.png)\n",
    "\n",
    "\n",
    "\n",
    "Bu NoteBook Pandas ile Veri Manipülasyonalrı işlemlerini içermektedir.\r\n",
    "\r\n",
    "pandas da numpy gibi anaconda üzerinde kurulu olarak gelir."
   ]
  },
  {
   "cell_type": "code",
   "execution_count": 33,
   "id": "20762545-a66d-4492-bdce-190844ec3101",
   "metadata": {},
   "outputs": [],
   "source": [
    "import pandas as pd"
   ]
  },
  {
   "cell_type": "code",
   "execution_count": null,
   "id": "3f1e2730-ea49-476a-a510-c1be4f593157",
   "metadata": {},
   "outputs": [],
   "source": [
    "#pip install --upgrade pandas\n"
   ]
  },
  {
   "cell_type": "code",
   "execution_count": null,
   "id": "80c50423-4bff-4c7f-bc28-f784551e5bb2",
   "metadata": {},
   "outputs": [],
   "source": [
    "pd.__version__\n"
   ]
  },
  {
   "cell_type": "markdown",
   "id": "c8ca8ace-800c-4d18-92fe-42fd668aab60",
   "metadata": {},
   "source": [
    "# Seriler"
   ]
  },
  {
   "cell_type": "code",
   "execution_count": null,
   "id": "a8a56bda-1c8e-47ce-9058-3559c255a067",
   "metadata": {},
   "outputs": [],
   "source": [
    "isimler=pd.Series([\"Ali\",\"Veli\",\"Ayse\",\"Fatma\", 'Ahmet','Adem'])\n",
    "isimler"
   ]
  },
  {
   "cell_type": "code",
   "execution_count": null,
   "id": "8e3d0458-33f8-40f4-b0c0-29e1158716b6",
   "metadata": {},
   "outputs": [],
   "source": [
    "type(isimler)"
   ]
  },
  {
   "cell_type": "code",
   "execution_count": null,
   "id": "77b30bfd-e055-4fba-9779-c607c234946d",
   "metadata": {},
   "outputs": [],
   "source": [
    "isimler[0]"
   ]
  },
  {
   "cell_type": "code",
   "execution_count": null,
   "id": "753d0f67-65f5-4be1-8424-e9344c6c9070",
   "metadata": {},
   "outputs": [],
   "source": [
    "isimler[0:2]"
   ]
  },
  {
   "cell_type": "code",
   "execution_count": null,
   "id": "9d18a5f2-0d78-49ed-a736-541078caaef0",
   "metadata": {},
   "outputs": [],
   "source": [
    "isimler[-1:]"
   ]
  },
  {
   "cell_type": "code",
   "execution_count": null,
   "id": "8e8003b6-d254-491f-b6fd-4790f73458a1",
   "metadata": {},
   "outputs": [],
   "source": [
    "# a ile başlayan isimler\n",
    "isimler[isimler.str.startswith(\"A\")]"
   ]
  },
  {
   "cell_type": "code",
   "execution_count": null,
   "id": "3db7577c-d055-4f22-af9f-429a0fa9ddc8",
   "metadata": {},
   "outputs": [],
   "source": [
    "isimler=isimler.str.lower()\n",
    "isimler"
   ]
  },
  {
   "cell_type": "code",
   "execution_count": null,
   "id": "ff3a9cd0-f062-460b-9437-e2816cabe24d",
   "metadata": {},
   "outputs": [],
   "source": [
    "isimler.str.upper()"
   ]
  },
  {
   "cell_type": "code",
   "execution_count": null,
   "id": "0fca312e-b682-4853-8e6d-6233438de487",
   "metadata": {},
   "outputs": [],
   "source": [
    "memleket=pd.Series([\"Ankara\",\"Istanbul\",'Ankara',\"Izmir\",\"Ankara\",\"Istanbul\",\"Izmir\"])\n",
    "memleket"
   ]
  },
  {
   "cell_type": "code",
   "execution_count": null,
   "id": "2ee2a644-34ef-45db-8504-b3c34d51ece7",
   "metadata": {},
   "outputs": [],
   "source": [
    "print((memleket==\"Ankara\").sum())"
   ]
  },
  {
   "cell_type": "code",
   "execution_count": null,
   "id": "c2bd4f7f-5f16-49b7-8f1d-9320f472e7e8",
   "metadata": {},
   "outputs": [],
   "source": [
    "memleket.value_counts()\n"
   ]
  },
  {
   "cell_type": "code",
   "execution_count": null,
   "id": "dbf3f25e-ec25-4900-bf5a-225e93c61fcc",
   "metadata": {},
   "outputs": [],
   "source": [
    "takimlar=pd.Series(['FB','FB','FB','FB','FB',\n",
    "                    'FB','FB','FB','FB', 'GS','GS',\n",
    "                   'GS','GS',\n",
    "                   'BJK','BJK','BJK','BJK'])"
   ]
  },
  {
   "cell_type": "code",
   "execution_count": null,
   "id": "45ced181-a627-4474-b5c8-ad01326f6f2f",
   "metadata": {},
   "outputs": [],
   "source": [
    "#pip install --upgrade matplotlib"
   ]
  },
  {
   "cell_type": "code",
   "execution_count": null,
   "id": "e20ba827-1114-47db-9967-7ba57bc318af",
   "metadata": {},
   "outputs": [],
   "source": [
    "\n",
    "takimlar.value_counts().plot.bar()"
   ]
  },
  {
   "cell_type": "code",
   "execution_count": null,
   "id": "973f7529-0c04-4384-9335-315b118fa82a",
   "metadata": {},
   "outputs": [],
   "source": [
    "import seaborn as sns\n"
   ]
  },
  {
   "cell_type": "code",
   "execution_count": null,
   "id": "fc2dd13c-f4de-4495-bb8b-fd226d2564e6",
   "metadata": {},
   "outputs": [],
   "source": [
    "sns.set_style(\"darkgrid\")\n"
   ]
  },
  {
   "cell_type": "code",
   "execution_count": null,
   "id": "25a6aecf-0325-4b92-9b8a-64984107e158",
   "metadata": {},
   "outputs": [],
   "source": [
    "sns.countplot(x=takimlar)\n"
   ]
  },
  {
   "cell_type": "code",
   "execution_count": null,
   "id": "3e71dd33-c7e6-459b-a43d-09ce15cc35c5",
   "metadata": {},
   "outputs": [],
   "source": [
    "puanlar=pd.Series([60,70,80,90,50,40,10])\n",
    "puanlar"
   ]
  },
  {
   "cell_type": "code",
   "execution_count": null,
   "id": "c6e7101c-cb1c-4be9-8a4b-4973842076e8",
   "metadata": {},
   "outputs": [],
   "source": [
    "puanlar.mean()\n"
   ]
  },
  {
   "cell_type": "code",
   "execution_count": null,
   "id": "92f40385-c045-46c2-9666-26fdeeb1e76f",
   "metadata": {},
   "outputs": [],
   "source": [
    "puanlar.std()\n"
   ]
  },
  {
   "cell_type": "code",
   "execution_count": null,
   "id": "76a253d8-0ed9-4ce1-b3e8-6357f2bde903",
   "metadata": {},
   "outputs": [],
   "source": [
    "puanlar[puanlar<40].count()\n"
   ]
  },
  {
   "cell_type": "code",
   "execution_count": null,
   "id": "66f5986a-67e5-42a6-893b-4b8ed6ba2330",
   "metadata": {},
   "outputs": [],
   "source": [
    "puanlar=puanlar+10\n",
    "puanlar"
   ]
  },
  {
   "cell_type": "code",
   "execution_count": null,
   "id": "3449e85c-262a-4a3d-a112-502f11e881e4",
   "metadata": {},
   "outputs": [],
   "source": [
    "uretim_miktarlari=pd.Series([120,150,180,200,250,300], \n",
    "                            index=[2017,2018,2019,2020,2021,2022])\n",
    "uretim_miktarlari.plot()"
   ]
  },
  {
   "cell_type": "code",
   "execution_count": null,
   "id": "085d1b5f-baaa-47c5-96ad-d740900f9555",
   "metadata": {},
   "outputs": [],
   "source": [
    "\n",
    "uretim_miktarlari.sum()"
   ]
  },
  {
   "cell_type": "code",
   "execution_count": null,
   "id": "eea72879-32d6-4eda-adfd-750663f9ee24",
   "metadata": {},
   "outputs": [],
   "source": [
    "import warnings\n",
    "warnings.filterwarnings(\"ignore\")"
   ]
  },
  {
   "cell_type": "code",
   "execution_count": null,
   "id": "823b0e99-ac21-4202-9b1d-e0d3f35030a9",
   "metadata": {},
   "outputs": [],
   "source": [
    "import datetime\n",
    "tarihler=pd.date_range(\"2023-01-01\",periods=12, freq=\"M\") #12 ay\n",
    "uretim_miktarlari=pd.Series([120,150,180,200,250,300,\n",
    "                            320,350,400,450,500,600],\n",
    "                            index=tarihler)\n",
    "uretim_miktarlari"
   ]
  },
  {
   "cell_type": "code",
   "execution_count": null,
   "id": "4cba4cd8-bf37-464a-8326-bded1fb91a63",
   "metadata": {},
   "outputs": [],
   "source": [
    "uretim_miktarlari=pd.Series([120,150,180,200,250,300,\n",
    "                            320,350,400,450,500,600],\n",
    "                            index=tarihler)"
   ]
  },
  {
   "cell_type": "code",
   "execution_count": null,
   "id": "0810e51a-a139-423c-a46c-dcbdf4d359c4",
   "metadata": {},
   "outputs": [],
   "source": [
    "uretim_miktarlari.plot();\n"
   ]
  },
  {
   "cell_type": "markdown",
   "id": "e4c5becb-2ac0-4d85-acfd-f49b15809cbb",
   "metadata": {},
   "source": [
    "# Data FRame\n"
   ]
  },
  {
   "cell_type": "code",
   "execution_count": null,
   "id": "f23764ef-5660-43c8-a862-0574396292b0",
   "metadata": {},
   "outputs": [],
   "source": [
    "isimler=[\"Ali\",\"Veli\",\"Ayse\",\"Fatma\", 'Ahmet','Adem']\n",
    "puanlar=[60,70,80,90,50,40]\n",
    "cinsiyet=[\"E\",\"E\",\"K\",\"K\",\"E\",\"E\"]\n",
    "df=pd.DataFrame({\"isimler\":isimler,\"puanlar\":puanlar,\n",
    "                 \"cinsiyet\":cinsiyet})\n",
    "df"
   ]
  },
  {
   "cell_type": "code",
   "execution_count": null,
   "id": "0b9a1d15-6e10-41ed-93ae-cb08ec5c3bee",
   "metadata": {},
   "outputs": [],
   "source": [
    "df.info()\n"
   ]
  },
  {
   "cell_type": "code",
   "execution_count": null,
   "id": "b31b70d0-5b70-4fcb-ba2e-2e96483271ef",
   "metadata": {},
   "outputs": [],
   "source": [
    "df[\"isimler\"]"
   ]
  },
  {
   "cell_type": "code",
   "execution_count": null,
   "id": "bd30045a-4156-43fb-b1ab-bd9d46c53e2d",
   "metadata": {},
   "outputs": [],
   "source": []
  }
 ],
 "metadata": {
  "kernelspec": {
   "display_name": "Python 3 (ipykernel)",
   "language": "python",
   "name": "python3"
  },
  "language_info": {
   "codemirror_mode": {
    "name": "ipython",
    "version": 3
   },
   "file_extension": ".py",
   "mimetype": "text/x-python",
   "name": "python",
   "nbconvert_exporter": "python",
   "pygments_lexer": "ipython3",
   "version": "3.12.4"
  }
 },
 "nbformat": 4,
 "nbformat_minor": 5
}
