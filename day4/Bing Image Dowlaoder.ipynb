{
 "cells": [
  {
   "cell_type": "markdown",
   "id": "357a75ed-b396-4e94-9957-d87c43de2e78",
   "metadata": {},
   "source": [
    "# Bing Image Downlaoder\r",
    "Bing Image Downloader kütüphanesi, Python'da Bing arama motoru üzerinden kolayca görsel indirmek için kullanılan bir araçtır. Bu kütüphane sayesinde belirli bir anahtar kelimeye göre çok sayıda görseli hızlıca indirip kullanabilirsiniz. Özellikle makine öğrenimi projelerinde eğitim verisi toplarken faydalıdır.\n"
   ]
  },
  {
   "cell_type": "code",
   "execution_count": 5,
   "id": "5426990f-cd08-4dd1-a94d-053334f5ebac",
   "metadata": {},
   "outputs": [],
   "source": [
    "#pip install bing-image-downloader"
   ]
  },
  {
   "cell_type": "code",
   "execution_count": 7,
   "id": "c0a2dc51-ae06-4739-942b-790c736a319d",
   "metadata": {},
   "outputs": [],
   "source": [
    "from bing_image_downloader import downloader\n"
   ]
  },
  {
   "cell_type": "code",
   "execution_count": 9,
   "id": "c8c28c86-49fe-49dc-b24c-5a240b02e70b",
   "metadata": {
    "scrolled": true
   },
   "outputs": [
    {
     "name": "stdout",
     "output_type": "stream",
     "text": [
      "[%] Downloading Images to C:\\Users\\ömer\\makineOgrenmesiBTK\\day4\\dataset\\cat\n",
      "\n",
      "\n",
      "[!!]Indexing page: 1\n",
      "\n",
      "[%] Indexed 40 Images on Page 1.\n",
      "\n",
      "===============================================\n",
      "\n",
      "[%] Downloading Image #1 from https://i.natgeofe.com/n/548467d8-c5f1-4551-9f58-6817a8d2c45e/NationalGeographic_2572187_square.jpg\n",
      "[%] File Downloaded !\n",
      "\n",
      "[%] Downloading Image #2 from https://get.pxhere.com/photo/animal-pet-kitten-cat-small-mammal-fauna-heal-blue-eye-close-up-nose-whiskers-vertebrate-domestic-lying-tabby-cat-norwegian-forest-cat-ginger-fur-small-to-medium-sized-cats-cat-like-mammal-carnivoran-domestic-short-haired-cat-domestic-long-haired-cat-609263.jpg\n",
      "[%] File Downloaded !\n",
      "\n",
      "[%] Downloading Image #3 from https://static.pexels.com/photos/45201/kitty-cat-kitten-pet-45201.jpeg\n",
      "[%] File Downloaded !\n",
      "\n",
      "[%] Downloading Image #4 from https://www.pbs.org/wnet/nature/files/2014/09/ExtraordinaryCats-Main.jpg\n",
      "[!] Issue getting: https://www.pbs.org/wnet/nature/files/2014/09/ExtraordinaryCats-Main.jpg\n",
      "[!] Error:: HTTP Error 403: Forbidden\n",
      "[%] Downloading Image #4 from https://i.natgeofe.com/k/ad9b542e-c4a0-4d0b-9147-da17121b4c98/MOmeow1_square.png\n",
      "[%] File Downloaded !\n",
      "\n",
      "[%] Downloading Image #5 from https://wallpaperaccess.com/full/2111331.jpg\n",
      "[%] File Downloaded !\n",
      "\n",
      "[%] Downloading Image #6 from https://filmdaily.co/wp-content/uploads/2020/05/cat-memes-lede.jpg\n",
      "[%] File Downloaded !\n",
      "\n",
      "[%] Downloading Image #7 from https://i.ytimg.com/vi/eXwZMAz9Vh8/maxresdefault.jpg\n",
      "[%] File Downloaded !\n",
      "\n",
      "[%] Downloading Image #8 from https://bestlifeonline.com/wp-content/uploads/sites/3/2018/06/cat-meme-54-0.jpg?quality=82&amp;strip=all\n",
      "[%] File Downloaded !\n",
      "\n",
      "[%] Downloading Image #9 from https://bestlifeonline.com/wp-content/uploads/sites/3/2018/06/cat-meme-94.jpg?quality=82&amp;strip=all\n",
      "[%] File Downloaded !\n",
      "\n",
      "[%] Downloading Image #10 from https://bestlifeonline.com/wp-content/uploads/sites/3/2018/06/cat-meme-78.jpg?resize=260\n",
      "[%] File Downloaded !\n",
      "\n",
      "\n",
      "\n",
      "[%] Done. Downloaded 10 images.\n"
     ]
    }
   ],
   "source": [
    "downloader.download('cat',limit=10,adult_filter_off=True)\n"
   ]
  },
  {
   "cell_type": "code",
   "execution_count": null,
   "id": "68d2eb8b-8ef2-4687-b916-6770d038fcca",
   "metadata": {},
   "outputs": [],
   "source": []
  }
 ],
 "metadata": {
  "kernelspec": {
   "display_name": "Python 3 (ipykernel)",
   "language": "python",
   "name": "python3"
  },
  "language_info": {
   "codemirror_mode": {
    "name": "ipython",
    "version": 3
   },
   "file_extension": ".py",
   "mimetype": "text/x-python",
   "name": "python",
   "nbconvert_exporter": "python",
   "pygments_lexer": "ipython3",
   "version": "3.12.4"
  }
 },
 "nbformat": 4,
 "nbformat_minor": 5
}
