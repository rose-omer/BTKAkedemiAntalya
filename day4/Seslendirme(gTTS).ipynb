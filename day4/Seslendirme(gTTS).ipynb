{
 "cells": [
  {
   "cell_type": "markdown",
   "id": "54a2fc27-d1b6-401b-ab52-05fd94d37e9c",
   "metadata": {},
   "source": [
    "# Text to Speech \n",
    "## (Metin seslendirme)\n"
   ]
  },
  {
   "cell_type": "code",
   "execution_count": 6,
   "id": "700526ac-f62c-4828-932d-3c793e95a123",
   "metadata": {},
   "outputs": [],
   "source": [
    "#pip install gtts\n"
   ]
  },
  {
   "cell_type": "code",
   "execution_count": 8,
   "id": "1375fc52-66ae-490f-899b-ecaab4b31fdd",
   "metadata": {},
   "outputs": [],
   "source": [
    "from gtts import gTTS"
   ]
  },
  {
   "cell_type": "code",
   "execution_count": 11,
   "id": "6b11017c-0c1f-41f6-a57b-cc1f871dc1a4",
   "metadata": {},
   "outputs": [],
   "source": [
    "text=\"Merhaba ben yapay zeka asistanıyım . Size nasıl yardımcı olabilirim .\""
   ]
  },
  {
   "cell_type": "code",
   "execution_count": 13,
   "id": "4e621af8-18ed-4293-ade5-ea967198210a",
   "metadata": {},
   "outputs": [],
   "source": [
    "kayit=gTTS(text=text,lang='tr',slow=False)\n",
    "kayit.save('merhaba_yz.mp3')"
   ]
  },
  {
   "cell_type": "code",
   "execution_count": 15,
   "id": "caf34055-5036-4d0b-bfc8-b3f53da542dc",
   "metadata": {},
   "outputs": [],
   "source": [
    "kayit=gTTS(text=text,lang='ru',slow=False)\n",
    "kayit.save('merhaba_yz_ru.mp3')"
   ]
  },
  {
   "cell_type": "code",
   "execution_count": 17,
   "id": "342ffc4c-e34f-45e1-a4fa-8278391b6ee1",
   "metadata": {},
   "outputs": [],
   "source": [
    "def filetospeech(file_path,lang_input='tr',slow=False):\n",
    "    from gtts import gTTS\n",
    "    metin=''\n",
    "    try:\n",
    "        with open (file_path,'r',encoding='utf-8') as file:\n",
    "            for line in file:\n",
    "                metin+=line\n",
    "        print(metin)\n",
    "        kayit=gTTS(text=metin,lang='tr',slow=False)\n",
    "        dosya_adi=str(metin[:5])\n",
    "        dosya_adi+='.mp3'\n",
    "        kayit.save(dosya_adi)\n",
    "        print('Ses kaydedildi.:',dosya_adi)\n",
    "    except:\n",
    "        print('Ses kaydedilemedi.')"
   ]
  },
  {
   "cell_type": "code",
   "execution_count": null,
   "id": "fd47dc06-ca71-4ed1-a99a-d089486665e4",
   "metadata": {},
   "outputs": [],
   "source": []
  }
 ],
 "metadata": {
  "kernelspec": {
   "display_name": "Python 3 (ipykernel)",
   "language": "python",
   "name": "python3"
  },
  "language_info": {
   "codemirror_mode": {
    "name": "ipython",
    "version": 3
   },
   "file_extension": ".py",
   "mimetype": "text/x-python",
   "name": "python",
   "nbconvert_exporter": "python",
   "pygments_lexer": "ipython3",
   "version": "3.12.4"
  }
 },
 "nbformat": 4,
 "nbformat_minor": 5
}
