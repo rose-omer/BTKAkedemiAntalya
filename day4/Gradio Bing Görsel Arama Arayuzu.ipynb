{
 "cells": [
  {
   "cell_type": "code",
   "execution_count": 14,
   "id": "dc19a58e-3170-4f47-9847-b5f2bddb0d51",
   "metadata": {},
   "outputs": [],
   "source": [
    "#pip install gradio\n"
   ]
  },
  {
   "cell_type": "code",
   "execution_count": 12,
   "id": "84fcef32-3f64-4141-ad00-0efd1eb69513",
   "metadata": {},
   "outputs": [],
   "source": [
    "#pip install bing_image_downloander"
   ]
  },
  {
   "cell_type": "code",
   "execution_count": 16,
   "id": "fdd6961e-0f4f-4df5-b66a-66e25c04fd0f",
   "metadata": {},
   "outputs": [],
   "source": [
    "from bing_image_downloader import downloader\n"
   ]
  },
  {
   "cell_type": "code",
   "execution_count": 42,
   "id": "052bcb51-f390-4395-890f-3ac4ccd72dae",
   "metadata": {},
   "outputs": [
    {
     "name": "stdout",
     "output_type": "stream",
     "text": [
      "* Running on local URL:  http://127.0.0.1:7863\n",
      "* Running on public URL: https://8b7393c54f366cb5e5.gradio.live\n",
      "\n",
      "This share link expires in 72 hours. For free permanent hosting and GPU upgrades, run `gradio deploy` from the terminal in the working directory to deploy to Hugging Face Spaces (https://huggingface.co/spaces)\n"
     ]
    },
    {
     "data": {
      "text/html": [
       "<div><iframe src=\"https://8b7393c54f366cb5e5.gradio.live\" width=\"100%\" height=\"500\" allow=\"autoplay; camera; microphone; clipboard-read; clipboard-write;\" frameborder=\"0\" allowfullscreen></iframe></div>"
      ],
      "text/plain": [
       "<IPython.core.display.HTML object>"
      ]
     },
     "metadata": {},
     "output_type": "display_data"
    },
    {
     "data": {
      "text/plain": []
     },
     "execution_count": 42,
     "metadata": {},
     "output_type": "execute_result"
    }
   ],
   "source": [
    "import gradio as gr\n",
    "from bing_image_downloader import downloader  # Ensure correct import\n",
    "\n",
    "def downloader_images(search_query, limit, adult_filter_off=True, timeout=20):\n",
    "    downloader.download(\n",
    "        search_query,\n",
    "        limit=limit,\n",
    "        adult_filter_off=adult_filter_off,\n",
    "        force_replace=False,\n",
    "        timeout=timeout\n",
    "    )\n",
    "    return f'{limit} adet {search_query} fotoğrafı indirildi.'\n",
    "\n",
    "# Gradio arayüzü oluştur\n",
    "interface = gr.Interface(\n",
    "    fn=downloader_images,\n",
    "    inputs=[\n",
    "        gr.Textbox(label='Aranacak kelime'), \n",
    "        gr.Slider(1, 100, step=5, label='Görsel sayısı'),\n",
    "        gr.Radio([\"True\", \"False\"], label=\"Filtreli Mod\")  \n",
    "    ],\n",
    "    outputs=\"text\",\n",
    "    title=\"Bing ile görsel indirme\",\n",
    "    description=\"İndirmek istediğiniz resmi tanımlayınız. İlgili ayarlardan ...\",\n",
    ")\n",
    "\n",
    "# Arayüzü başlat\n",
    "interface.launch(share=True)\n"
   ]
  },
  {
   "cell_type": "code",
   "execution_count": null,
   "id": "3ba874c0-9013-4201-b692-c7c64472f181",
   "metadata": {},
   "outputs": [],
   "source": []
  }
 ],
 "metadata": {
  "kernelspec": {
   "display_name": "Python 3 (ipykernel)",
   "language": "python",
   "name": "python3"
  },
  "language_info": {
   "codemirror_mode": {
    "name": "ipython",
    "version": 3
   },
   "file_extension": ".py",
   "mimetype": "text/x-python",
   "name": "python",
   "nbconvert_exporter": "python",
   "pygments_lexer": "ipython3",
   "version": "3.12.4"
  }
 },
 "nbformat": 4,
 "nbformat_minor": 5
}
