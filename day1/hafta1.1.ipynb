{
 "cells": [
  {
   "cell_type": "code",
   "execution_count": 1,
   "id": "c38859b8-4361-4bf5-a365-1cfa37451815",
   "metadata": {
    "panel-layout": {
     "height": 0,
     "visible": true,
     "width": 100
    }
   },
   "outputs": [
    {
     "name": "stdout",
     "output_type": "stream",
     "text": [
      "Merhaba\n"
     ]
    }
   ],
   "source": [
    "print(\"Merhaba\")"
   ]
  },
  {
   "cell_type": "markdown",
   "id": "0d57ea86-a510-4b17-ae3b-4c02bf47bc3f",
   "metadata": {
    "panel-layout": {
     "height": 50.796875,
     "visible": true,
     "width": 100
    }
   },
   "source": [
    "# Başlık\n",
    "## Alt Baslık \n",
    "### En alt baslık\n",
    "Bu uygulamada jupiter notbook ile  yazmayı ve markdown kullanmayı öğreneceğiz\n"
   ]
  },
  {
   "cell_type": "markdown",
   "id": "0156f668-2421-4d60-876d-2348d918d9ae",
   "metadata": {},
   "source": [
    "[giris](www.btkakademi.gov.tr)"
   ]
  },
  {
   "cell_type": "markdown",
   "id": "b31ac3de-228d-4fef-8004-1ab2a4e99add",
   "metadata": {},
   "source": [
    "<br> Python Giris <b>\n",
    "<li> Liste Elemanları 1</li>\n",
    "<li> Liste Elemanları 2</li>\n",
    "<li> Liste Elemanları 3</li>\n",
    "<li> Liste Elemanları 4</li>"
   ]
  },
  {
   "cell_type": "markdown",
   "id": "48266ba8-15be-4dda-962b-3c7f1df400a3",
   "metadata": {},
   "source": [
    "## Latex Kullanımı \n",
    "\n"
   ]
  },
  {
   "cell_type": "markdown",
   "id": "5b17d827-81b9-4480-85cb-87f7cae2fcda",
   "metadata": {},
   "source": [
    "$$c= \\sqrt{a^2 + 2 + b^2}$$\n"
   ]
  },
  {
   "cell_type": "markdown",
   "id": "03936197-3fb7-4055-866d-9235b0163788",
   "metadata": {},
   "source": [
    "$$\n",
    "f(x) = \\int_{-\\infty}^{\\infty} e^{-x^2} dx\n",
    "$$"
   ]
  },
  {
   "cell_type": "code",
   "execution_count": 8,
   "id": "2ef7f14d-3e4f-48af-8aa2-56ed536a1f8e",
   "metadata": {},
   "outputs": [
    {
     "data": {
      "text/latex": [
       "$\\displaystyle F(k) = \\int_{-\\infty}^{\\infty} f(x) e^{2\\pi i k} dx$"
      ],
      "text/plain": [
       "<IPython.core.display.Math object>"
      ]
     },
     "metadata": {},
     "output_type": "display_data"
    }
   ],
   "source": [
    "from IPython.display import display, Math, Latex\n",
    "display(Math(r'F(k) = \\int_{-\\infty}^{\\infty} f(x) e^{2\\pi i k} dx'))\n"
   ]
  },
  {
   "cell_type": "markdown",
   "id": "f64eb4ea-f58e-4e14-b445-67fe3e78ead8",
   "metadata": {},
   "source": [
    "\n",
    "\n"
   ]
  },
  {
   "cell_type": "code",
   "execution_count": 10,
   "id": "a590f14a-89cb-4525-87a3-b71ae270bf22",
   "metadata": {},
   "outputs": [
    {
     "name": "stdout",
     "output_type": "stream",
     "text": [
      " Volume in drive C has no label.\n",
      " Volume Serial Number is E27C-4247\n",
      "\n",
      " Directory of C:\\Users\\”mer\\makineOgrenmesiBTK\\hafta1\n",
      "\n",
      "26.10.2024  15:18    <DIR>          .\n",
      "26.10.2024  11:33    <DIR>          ..\n",
      "26.10.2024  11:39               282 .hafta1.1.ipynb.layout\n",
      "26.10.2024  12:09    <DIR>          .ipynb_checkpoints\n",
      "26.10.2024  15:18            20.649 hafta1.1.ipynb\n",
      "               2 File(s)         20.931 bytes\n",
      "               3 Dir(s)  48.199.864.320 bytes free\n"
     ]
    }
   ],
   "source": [
    "ls"
   ]
  },
  {
   "cell_type": "markdown",
   "id": "61b7ad56-6d2f-4234-8b40-6ff158b322d3",
   "metadata": {},
   "source": [
    "## Kütüphane kurulumu"
   ]
  },
  {
   "cell_type": "markdown",
   "id": "6dffe614-cc7d-4ef8-a4b8-75c13a11df61",
   "metadata": {},
   "source": [
    "# Araya kod yazma\n",
    "pip install kutuphane\r\n",
    "\n"
   ]
  },
  {
   "cell_type": "code",
   "execution_count": 13,
   "id": "f9c30c13-14c2-493e-b312-57919039831f",
   "metadata": {},
   "outputs": [
    {
     "name": "stdout",
     "output_type": "stream",
     "text": [
      "MErhaba 123 3.14\n"
     ]
    }
   ],
   "source": [
    "# print\n",
    "print (\"MErhaba\", 123, 3.14)"
   ]
  },
  {
   "cell_type": "code",
   "execution_count": 14,
   "id": "9882d9fb-35a0-4500-b3f6-4d4070386382",
   "metadata": {},
   "outputs": [
    {
     "name": "stdout",
     "output_type": "stream",
     "text": [
      "\n",
      "Merhaba\n",
      "Ben Ömer Faruk Köse\n",
      "BTK Akdemi adına \n",
      "...\n",
      "\n"
     ]
    }
   ],
   "source": [
    "print(\n",
    "'''\n",
    "Merhaba\n",
    "Ben Ömer Faruk Köse\n",
    "BTK Akdemi adına \n",
    "...\n",
    "''')"
   ]
  },
  {
   "cell_type": "markdown",
   "id": "20354d23-8a09-4304-a145-9acc2f718c76",
   "metadata": {},
   "source": [
    "[![Open in Colab](https://colab.research.google.com/assets/colab-badge.svg)](https://colab.research.google.com/github/eladrich/pixel2style2pixel/blob/master/notebooks/inference_playground.ipynb)"
   ]
  },
  {
   "cell_type": "code",
   "execution_count": 16,
   "id": "2ea220f9-44fa-461e-a441-1d593c77e9d3",
   "metadata": {},
   "outputs": [
    {
     "data": {
      "text/plain": [
       "3.0"
      ]
     },
     "execution_count": 16,
     "metadata": {},
     "output_type": "execute_result"
    }
   ],
   "source": [
    "import math\n",
    "math.sqrt(9)"
   ]
  },
  {
   "cell_type": "code",
   "execution_count": 17,
   "id": "3e2c7508-0ec9-47cb-aae0-9f3f61c7fac8",
   "metadata": {},
   "outputs": [
    {
     "data": {
      "text/plain": [
       "str"
      ]
     },
     "execution_count": 17,
     "metadata": {},
     "output_type": "execute_result"
    }
   ],
   "source": [
    "#type\n",
    "type(\"Merhaba\")"
   ]
  },
  {
   "cell_type": "code",
   "execution_count": 18,
   "id": "d578b6e4-2562-4ac2-88cd-aebfd03feb56",
   "metadata": {},
   "outputs": [
    {
     "data": {
      "text/plain": [
       "list"
      ]
     },
     "execution_count": 18,
     "metadata": {},
     "output_type": "execute_result"
    }
   ],
   "source": [
    "listem=[1,2,3,4,5]\n",
    "type(listem)"
   ]
  },
  {
   "cell_type": "code",
   "execution_count": 19,
   "id": "02e2ab77-5f2c-493b-8f3c-1c2877ec8dbf",
   "metadata": {},
   "outputs": [
    {
     "data": {
      "text/plain": [
       "(float, str)"
      ]
     },
     "execution_count": 19,
     "metadata": {},
     "output_type": "execute_result"
    }
   ],
   "source": [
    "type(2.5),type('2.5')\n"
   ]
  },
  {
   "cell_type": "code",
   "execution_count": 20,
   "id": "d8dfbd78-4509-4638-98ee-188d7186e3f2",
   "metadata": {},
   "outputs": [
    {
     "name": "stdout",
     "output_type": "stream",
     "text": [
      "BTK\tBTK\tBTK\tBTK\tBTK\tBTK\tBTK\tBTK\tBTK\tBTK\tBTK\tBTK\tBTK\tBTK\tBTK\tBTK\tBTK\tBTK\tBTK\tBTK\tBTK\tBTK\tBTK\tBTK\tBTK\tBTK\tBTK\tBTK\tBTK\tBTK\tBTK\tBTK\tBTK\tBTK\tBTK\tBTK\tBTK\tBTK\tBTK\tBTK\tBTK\tBTK\tBTK\tBTK\tBTK\tBTK\tBTK\tBTK\tBTK\tBTK\tBTK\tBTK\tBTK\tBTK\tBTK\tBTK\tBTK\tBTK\tBTK\tBTK\tBTK\tBTK\tBTK\tBTK\tBTK\tBTK\tBTK\tBTK\tBTK\tBTK\tBTK\tBTK\tBTK\tBTK\tBTK\tBTK\tBTK\tBTK\tBTK\tBTK\tBTK\tBTK\tBTK\tBTK\tBTK\tBTK\tBTK\tBTK\tBTK\tBTK\tBTK\tBTK\tBTK\tBTK\tBTK\tBTK\tBTK\tBTK\tBTK\tBTK\tBTK\tBTK\tBTK\tBTK\tBTK\tBTK\tBTK\tBTK\tBTK\tBTK\tBTK\tBTK\tBTK\tBTK\tBTK\tBTK\tBTK\tBTK\tBTK\tBTK\tBTK\tBTK\tBTK\tBTK\t\n"
     ]
    }
   ],
   "source": [
    "print(124*'BTK\\t')\n"
   ]
  },
  {
   "cell_type": "markdown",
   "id": "c458bfcc-d1ed-49f2-9315-71dc75ef9460",
   "metadata": {},
   "source": [
    "\n",
    "'Türkiye'nin başkenti Ankara'dır'\n"
   ]
  },
  {
   "cell_type": "code",
   "execution_count": 22,
   "id": "9b2ed3be-983e-434f-922e-d2ff89093d24",
   "metadata": {},
   "outputs": [
    {
     "data": {
      "text/plain": [
       "\"\\nTürkiye'nin başkenti Ankara'dır\\n\""
      ]
     },
     "execution_count": 22,
     "metadata": {},
     "output_type": "execute_result"
    }
   ],
   "source": [
    "'''\n",
    "Türkiye'nin başkenti Ankara'dır\n",
    "'''"
   ]
  },
  {
   "cell_type": "code",
   "execution_count": 23,
   "id": "db1d4515-02b0-481d-ae06-d29a4a97b21c",
   "metadata": {},
   "outputs": [
    {
     "data": {
      "text/plain": [
       "8"
      ]
     },
     "execution_count": 23,
     "metadata": {},
     "output_type": "execute_result"
    }
   ],
   "source": [
    "2+6"
   ]
  },
  {
   "cell_type": "code",
   "execution_count": 24,
   "id": "64c7b9b0-77ac-4471-9cee-28b813a6cbb5",
   "metadata": {},
   "outputs": [
    {
     "data": {
      "text/plain": [
       "'ömer'"
      ]
     },
     "execution_count": 24,
     "metadata": {},
     "output_type": "execute_result"
    }
   ],
   "source": [
    "\"ömer\""
   ]
  },
  {
   "cell_type": "code",
   "execution_count": 25,
   "id": "67e16bc1-7838-45da-bcf4-51cd8d94d450",
   "metadata": {},
   "outputs": [],
   "source": [
    "sayi =list(range(10))"
   ]
  },
  {
   "cell_type": "code",
   "execution_count": 26,
   "id": "84610e77-91d0-49ee-87bf-eade2e5969c4",
   "metadata": {},
   "outputs": [
    {
     "data": {
      "text/plain": [
       "[0, 1, 2, 3, 4, 5, 6, 7, 8, 9]"
      ]
     },
     "execution_count": 26,
     "metadata": {},
     "output_type": "execute_result"
    }
   ],
   "source": [
    "sayi"
   ]
  },
  {
   "cell_type": "code",
   "execution_count": 27,
   "id": "d75919c4-4ab1-49f8-8cfc-93032e6c9d13",
   "metadata": {},
   "outputs": [
    {
     "data": {
      "text/plain": [
       "[0, 1, 2, 3, 4]"
      ]
     },
     "execution_count": 27,
     "metadata": {},
     "output_type": "execute_result"
    }
   ],
   "source": [
    "sayi[0:5]"
   ]
  },
  {
   "cell_type": "code",
   "execution_count": 28,
   "id": "2365bfd7-d286-41c9-8d9d-bcad14fed516",
   "metadata": {},
   "outputs": [],
   "source": [
    "sayi1=[[1,2,3],\n",
    "    [4,5,6]]\n",
    "\n"
   ]
  },
  {
   "cell_type": "code",
   "execution_count": 29,
   "id": "749b7975-bd15-43ef-8958-6d2731a20cda",
   "metadata": {},
   "outputs": [
    {
     "data": {
      "text/plain": [
       "[4, 5, 6]"
      ]
     },
     "execution_count": 29,
     "metadata": {},
     "output_type": "execute_result"
    }
   ],
   "source": [
    "sayi1[1]"
   ]
  },
  {
   "cell_type": "code",
   "execution_count": 30,
   "id": "4e1240d3-99b4-425a-9bfe-2425c3aadf0e",
   "metadata": {},
   "outputs": [
    {
     "data": {
      "text/plain": [
       "1"
      ]
     },
     "execution_count": 30,
     "metadata": {},
     "output_type": "execute_result"
    }
   ],
   "source": [
    "sayi1[0][0]"
   ]
  },
  {
   "cell_type": "code",
   "execution_count": 31,
   "id": "b554b069-959d-41f2-8bd4-6a18a62903e2",
   "metadata": {},
   "outputs": [
    {
     "data": {
      "text/plain": [
       "list"
      ]
     },
     "execution_count": 31,
     "metadata": {},
     "output_type": "execute_result"
    }
   ],
   "source": [
    "type(sayi1[0])"
   ]
  },
  {
   "cell_type": "code",
   "execution_count": 32,
   "id": "ac813fff-95f7-4c99-8384-a6af5fc76b34",
   "metadata": {},
   "outputs": [
    {
     "data": {
      "text/plain": [
       "complex"
      ]
     },
     "execution_count": 32,
     "metadata": {},
     "output_type": "execute_result"
    }
   ],
   "source": [
    "sayi=5+2j\n",
    "type(sayi)"
   ]
  },
  {
   "cell_type": "code",
   "execution_count": 33,
   "id": "990378be-55c7-443d-913d-b79c8afcbb7b",
   "metadata": {},
   "outputs": [
    {
     "data": {
      "text/plain": [
       "(1, 2, 3)"
      ]
     },
     "execution_count": 33,
     "metadata": {},
     "output_type": "execute_result"
    }
   ],
   "source": [
    "tuple=(1,2,3)\n",
    "tuple"
   ]
  },
  {
   "cell_type": "code",
   "execution_count": 34,
   "id": "3c4a7b3b-09ed-42c1-a9a5-0e6df714a1b6",
   "metadata": {},
   "outputs": [],
   "source": [
    "tuple1=(1,)"
   ]
  },
  {
   "cell_type": "code",
   "execution_count": 35,
   "id": "bc7fa288-f6de-4421-9905-d9bdc0d96d23",
   "metadata": {},
   "outputs": [
    {
     "data": {
      "text/plain": [
       "(1,)"
      ]
     },
     "execution_count": 35,
     "metadata": {},
     "output_type": "execute_result"
    }
   ],
   "source": [
    "tuple1"
   ]
  },
  {
   "cell_type": "code",
   "execution_count": 36,
   "id": "fa43bb01-649f-4997-9313-f6a3575f1350",
   "metadata": {},
   "outputs": [],
   "source": [
    "sayi =[1,2,3] "
   ]
  },
  {
   "cell_type": "code",
   "execution_count": 37,
   "id": "58a9c1d6-0855-44f2-b8ed-7c49fe5bdbc5",
   "metadata": {},
   "outputs": [],
   "source": [
    "sayi.append(4)"
   ]
  },
  {
   "cell_type": "code",
   "execution_count": 38,
   "id": "3a9501b1-47d4-4ffa-9983-e84332574f72",
   "metadata": {},
   "outputs": [
    {
     "data": {
      "text/plain": [
       "[1, 2, 3, 4]"
      ]
     },
     "execution_count": 38,
     "metadata": {},
     "output_type": "execute_result"
    }
   ],
   "source": [
    "sayi"
   ]
  },
  {
   "cell_type": "code",
   "execution_count": 39,
   "id": "e4cdb638-bd22-4556-a1d8-889d14a47f8e",
   "metadata": {},
   "outputs": [
    {
     "data": {
      "text/plain": [
       "4"
      ]
     },
     "execution_count": 39,
     "metadata": {},
     "output_type": "execute_result"
    }
   ],
   "source": [
    "sayi.pop()"
   ]
  },
  {
   "cell_type": "code",
   "execution_count": 40,
   "id": "24c23f9f-86d7-477f-93f4-1aed3c209a9f",
   "metadata": {},
   "outputs": [
    {
     "data": {
      "text/plain": [
       "[1, 2, 3]"
      ]
     },
     "execution_count": 40,
     "metadata": {},
     "output_type": "execute_result"
    }
   ],
   "source": [
    "sayi"
   ]
  },
  {
   "cell_type": "code",
   "execution_count": 41,
   "id": "47ed13e2-747a-491a-9d8c-584ac35f2af0",
   "metadata": {},
   "outputs": [],
   "source": [
    "sayi.insert(0,10)"
   ]
  },
  {
   "cell_type": "code",
   "execution_count": 42,
   "id": "a3e72cd0-0915-4809-96d7-c47471568062",
   "metadata": {},
   "outputs": [
    {
     "data": {
      "text/plain": [
       "[10, 1, 2, 3]"
      ]
     },
     "execution_count": 42,
     "metadata": {},
     "output_type": "execute_result"
    }
   ],
   "source": [
    "sayi"
   ]
  },
  {
   "cell_type": "code",
   "execution_count": 43,
   "id": "5ef41570-dfad-4ad7-b9ef-0aeac36bb3bc",
   "metadata": {},
   "outputs": [],
   "source": [
    "sayi.clear()"
   ]
  },
  {
   "cell_type": "code",
   "execution_count": 44,
   "id": "ab8011af-5a31-4421-98c8-628dd29a3aa8",
   "metadata": {},
   "outputs": [],
   "source": [
    "sayi=[1,2,3]"
   ]
  },
  {
   "cell_type": "code",
   "execution_count": 45,
   "id": "ef8bcefd-699e-4518-8b70-b29d2172e0d0",
   "metadata": {},
   "outputs": [
    {
     "data": {
      "text/plain": [
       "[1, 2, 3]"
      ]
     },
     "execution_count": 45,
     "metadata": {},
     "output_type": "execute_result"
    }
   ],
   "source": [
    "sayi"
   ]
  },
  {
   "cell_type": "code",
   "execution_count": 46,
   "id": "31c06788-0365-42be-b79f-9e794c87e02a",
   "metadata": {},
   "outputs": [],
   "source": [
    "import keyword"
   ]
  },
  {
   "cell_type": "code",
   "execution_count": 47,
   "id": "646f2356-0758-4f56-8a44-1f9ca5a292e2",
   "metadata": {},
   "outputs": [
    {
     "name": "stdout",
     "output_type": "stream",
     "text": [
      "['False', 'None', 'True', 'and', 'as', 'assert', 'async', 'await', 'break', 'class', 'continue', 'def', 'del', 'elif', 'else', 'except', 'finally', 'for', 'from', 'global', 'if', 'import', 'in', 'is', 'lambda', 'nonlocal', 'not', 'or', 'pass', 'raise', 'return', 'try', 'while', 'with', 'yield']\n"
     ]
    }
   ],
   "source": [
    "print(keyword.kwlist)"
   ]
  },
  {
   "cell_type": "code",
   "execution_count": null,
   "id": "2219c4a9-0042-408e-89d5-ac7059023bfe",
   "metadata": {},
   "outputs": [],
   "source": [
    "a = int(input(\"İlk notu giriniz: \"))  \n",
    "a1 = float(input(\"Ağırlığı nedir: \")) \n",
    "b = int(input(\"İkinci notu giriniz: \"))  \n",
    "b1 = float(input(\"Ağırlığı nedir: \")) \n",
    "\n",
    "\n",
    "\n",
    "def hesaplama(a, a1, b, b1):\n",
    "    gecme_notu = (a * a1) + (b * b1)\n",
    "    \n",
    "    if gecme_notu >= 90:\n",
    "        harf_notu = 'A'\n",
    "    elif gecme_notu >= 80:\n",
    "        harf_notu = 'B'\n",
    "    elif gecme_notu >= 70:\n",
    "        harf_notu = 'C'\n",
    "    elif gecme_notu >= 60:\n",
    "        harf_notu = 'D'\n",
    "    else:\n",
    "        harf_notu = 'F'\n",
    "\n",
    "    return gecme_notu, harf_notu \n",
    "gecme_notu, harf_notu = hesaplama(a, a1, b, b1)\n",
    "print(\"Geçme Notu: \",gecme_notu)\n",
    "print(\"Harf Notu: \",harf_notu)\n"
   ]
  },
  {
   "cell_type": "code",
   "execution_count": null,
   "id": "1a17f5f3-ab2d-483e-acc6-87852161472d",
   "metadata": {},
   "outputs": [],
   "source": []
  },
  {
   "cell_type": "code",
   "execution_count": null,
   "id": "9732d92b-4934-446c-baa3-0758ad6a5c24",
   "metadata": {},
   "outputs": [],
   "source": []
  },
  {
   "cell_type": "code",
   "execution_count": null,
   "id": "d1a20809-4b9b-4956-978d-4b167060b0c8",
   "metadata": {},
   "outputs": [],
   "source": []
  }
 ],
 "metadata": {
  "kernelspec": {
   "display_name": "Python 3 (ipykernel)",
   "language": "python",
   "name": "python3"
  },
  "language_info": {
   "codemirror_mode": {
    "name": "ipython",
    "version": 3
   },
   "file_extension": ".py",
   "mimetype": "text/x-python",
   "name": "python",
   "nbconvert_exporter": "python",
   "pygments_lexer": "ipython3",
   "version": "3.12.4"
  },
  "panel-cell-order": [
   "c38859b8-4361-4bf5-a365-1cfa37451815",
   "300e49f3-6ebe-4192-8831-ff33a36809ed"
  ]
 },
 "nbformat": 4,
 "nbformat_minor": 5
}
